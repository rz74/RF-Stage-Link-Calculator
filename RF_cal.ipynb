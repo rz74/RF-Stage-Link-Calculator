{
  "cells": [
    {
      "cell_type": "markdown",
      "metadata": {
        "id": "view-in-github",
        "colab_type": "text"
      },
      "source": [
        "<a href=\"https://colab.research.google.com/github/rz74/RF-Stage-Link-Calculator/blob/main/RF_cal.ipynb\" target=\"_parent\"><img src=\"https://colab.research.google.com/assets/colab-badge.svg\" alt=\"Open In Colab\"/></a>"
      ]
    },
    {
      "cell_type": "markdown",
      "source": [
        "# Initialization"
      ],
      "metadata": {
        "id": "PHkf7lDuDd9v"
      }
    },
    {
      "cell_type": "code",
      "execution_count": null,
      "metadata": {
        "colab": {
          "base_uri": "https://localhost:8080/"
        },
        "id": "COjvvZjg29zX",
        "outputId": "df36aeaf-f9c2-4acf-d859-84326e74e98e"
      },
      "outputs": [
        {
          "output_type": "stream",
          "name": "stdout",
          "text": [
            "Drive already mounted at /content/drive; to attempt to forcibly remount, call drive.mount(\"/content/drive\", force_remount=True).\n"
          ]
        }
      ],
      "source": [
        "# DO NOT CHANGE\n",
        "from google.colab import drive\n",
        "drive.mount('/content/drive')"
      ]
    },
    {
      "cell_type": "code",
      "execution_count": null,
      "metadata": {
        "colab": {
          "base_uri": "https://localhost:8080/"
        },
        "id": "1yzljLDa3uJg",
        "outputId": "46fea8c6-ac16-469f-e743-ef045db9e9ad"
      },
      "outputs": [
        {
          "output_type": "stream",
          "name": "stdout",
          "text": [
            "/content/drive/MyDrive/Colab Notebooks/data\n"
          ]
        }
      ],
      "source": [
        "####----####----####----####----####----####----####----USER_INPUT----####----####----####----####----####----####----####\n",
        "# change the path to where the data is stored\n",
        "\n",
        "#%cd /content/drive/MyDrive/rf cal/data\n",
        "\n",
        "#%cd /content/drive/MyDrive/Colab Notebooks/data\n",
        "\n",
        "# %cd /content/sample_data\n",
        "\n",
        "%cd /content/drive/MyDrive/Colab Notebooks/data\n",
        "\n",
        "####----####----####----####----####----####----####----END__INPUT----####----####----####----####----####----####----####"
      ]
    },
    {
      "cell_type": "code",
      "execution_count": null,
      "metadata": {
        "colab": {
          "base_uri": "https://localhost:8080/"
        },
        "id": "B46eRBk537AN",
        "outputId": "c4749807-588e-4310-ab07-0981d66deece"
      },
      "outputs": [
        {
          "output_type": "stream",
          "name": "stdout",
          "text": [
            "Requirement already satisfied: scikit-rf in /usr/local/lib/python3.10/dist-packages (0.30.0)\n",
            "Requirement already satisfied: numpy>=1.21 in /usr/local/lib/python3.10/dist-packages (from scikit-rf) (1.23.5)\n",
            "Requirement already satisfied: scipy>=1.7 in /usr/local/lib/python3.10/dist-packages (from scikit-rf) (1.11.4)\n",
            "Requirement already satisfied: pandas>=1.1 in /usr/local/lib/python3.10/dist-packages (from scikit-rf) (1.5.3)\n",
            "Requirement already satisfied: python-dateutil>=2.8.1 in /usr/local/lib/python3.10/dist-packages (from pandas>=1.1->scikit-rf) (2.8.2)\n",
            "Requirement already satisfied: pytz>=2020.1 in /usr/local/lib/python3.10/dist-packages (from pandas>=1.1->scikit-rf) (2023.3.post1)\n",
            "Requirement already satisfied: six>=1.5 in /usr/local/lib/python3.10/dist-packages (from python-dateutil>=2.8.1->pandas>=1.1->scikit-rf) (1.16.0)\n"
          ]
        }
      ],
      "source": [
        "\n",
        "pip install scikit-rf"
      ]
    },
    {
      "cell_type": "code",
      "execution_count": null,
      "metadata": {
        "id": "PcMoBhaa39GT"
      },
      "outputs": [],
      "source": [
        "# DO NOT CHANGE\n",
        "import numpy as np\n",
        "import matplotlib.pyplot as plt\n",
        "import csv\n",
        "import pandas as pd\n",
        "import skrf as rf\n",
        "import re\n",
        "import math"
      ]
    },
    {
      "cell_type": "code",
      "execution_count": null,
      "metadata": {
        "id": "yFjidU9v8XVY"
      },
      "outputs": [],
      "source": [
        "####----####----####----####----####----####----####----USER_INPUT----####----####----####----####----####----####----####\n",
        "\n",
        "# Define the freq range of this system in GHz\n",
        "# And number of freq points\n",
        "freq_l = 6\n",
        "freq_h = 18\n",
        "step_size = 0.5\n",
        "####----####----####----####----####----####----####----END__INPUT----####----####----####----####----####----####----####\n",
        "\n",
        "\n",
        "# DO NOT CHANGE\n",
        "freq_num = int((freq_h - freq_l) / step_size) + 1\n",
        "f = np.linspace(freq_l,freq_h,freq_num)\n",
        "f_df = pd.DataFrame(f, columns=['Frequency'])"
      ]
    },
    {
      "cell_type": "markdown",
      "source": [
        "# Functions"
      ],
      "metadata": {
        "id": "JgpZfnIwClo4"
      }
    },
    {
      "cell_type": "code",
      "execution_count": null,
      "metadata": {
        "id": "uUaAuSgBdO3l"
      },
      "outputs": [],
      "source": [
        "####----####----####----####----####----####----####----USER_INPUT----####----####----####----####----####----####----####\n",
        "\n",
        "\n",
        "\n",
        "####----####----####----####----####----####----####----END__INPUT----####----####----####----####----####----####----####"
      ]
    },
    {
      "cell_type": "code",
      "execution_count": null,
      "metadata": {
        "id": "zGeGOM-A4-V-"
      },
      "outputs": [],
      "source": [
        "# DO NOT CHANGE\n",
        "# input: the ntwk object and freq range and number of points\n",
        "# output: a panda data frame with gain in db form\n",
        "\n",
        "def ntwk_to_db(input_ntwk):\n",
        "\n",
        "\n",
        "  # data cleaning\n",
        "  # convert a ntwk to it's gain in db\n",
        "  # bt/w lf and hf (in GHz)\n",
        "\n",
        "  # define freq range and interpolate missing points\n",
        "\n",
        "  f = np.linspace(freq_l,freq_h,freq_num)\n",
        "  freq = rf.Frequency.from_f(f, unit='GHz')\n",
        "  input_ntwk.interpolate_self(freq)\n",
        "  output_ntwk = input_ntwk['6-18ghz']\n",
        "\n",
        "  # pull s21 from ntwk\n",
        "  output_s21 = output_ntwk.s21\n",
        "  output_db = output_s21.s_db\n",
        "\n",
        "  # convert to panda df\n",
        "  input_string = str(input_ntwk)\n",
        "\n",
        "  # pattern to match the sub string between single quotes\n",
        "  pattern = r\"'([^']+)'\"\n",
        "\n",
        "  # find the first match in the string\n",
        "  match = re.search(pattern, input_string)\n",
        "\n",
        "  # Check if a match is found\n",
        "  if match:\n",
        "      # Extract the matched substring\n",
        "      result = match.group(1)\n",
        "      result = result+'_gain'\n",
        "      #print(result)\n",
        "  else:\n",
        "      pass\n",
        "      #print(\"No match found\")\n",
        "  #\n",
        "  gain = output_db[:,0,0]\n",
        "  gain.flatten()\n",
        "  gain_df = pd.DataFrame(gain, columns=[result])\n",
        "\n",
        "  gain_df.insert(0,'Frequency',f_df['Frequency'])\n",
        "  return gain_df"
      ]
    },
    {
      "cell_type": "code",
      "execution_count": null,
      "metadata": {
        "id": "PiUT1GlZGMbR"
      },
      "outputs": [],
      "source": [
        "# DO NOT CHANGE\n",
        "def generate_system(input_df):\n",
        "\n",
        "  output_df = input_df\n",
        "  freq_df = pd.DataFrame(f, columns=['Frequency'])\n",
        "  output_df.insert(0, 'Frequency', freq_df['Frequency'])\n",
        "\n",
        "  return output_df"
      ]
    },
    {
      "cell_type": "code",
      "execution_count": null,
      "metadata": {
        "id": "9Y-iA5IeIeFo"
      },
      "outputs": [],
      "source": [
        "# DO NOT CHANGE\n",
        "def generate_gain_plot(input_df):\n",
        "  pa_system_df = input_df\n",
        "  column_name = pa_system_df.columns[-1]\n",
        "\n",
        "  # Plotting\n",
        "  ax = pa_system_df.plot(x='Frequency', y=column_name, kind='line', label=column_name)\n",
        "\n",
        "  # Calculate y-axis limits\n",
        "  min_y = pa_system_df[column_name].min()\n",
        "  min_y = round(min_y / 10) * 10\n",
        "  min_y = min_y - 10  # set min_y to its 2nd closest multiple of 10\n",
        "  max_y = min_y + 50  # Set max_y as min_y + 30\n",
        "\n",
        "  plt.ylabel(\"Cascaded Gain\")\n",
        "  plt.title('Cascaded Gain vs Frequency')\n",
        "\n",
        "  # Setting y-axis limits\n",
        "  ax.set_ylim([min_y, max_y])\n",
        "\n",
        "  # Annotate points for every 0.5 GHz\n",
        "  for i, row in pa_system_df.iterrows():\n",
        "      x_value = row['Frequency']\n",
        "      if x_value.is_integer() or (x_value * 10) % 10 == 0:\n",
        "          ax.annotate(f'{row[column_name]:.2f}', (row['Frequency'], row[column_name]), textcoords=\"offset points\", xytext=(0,5), ha='center')\n",
        "\n",
        "  ax.legend(['Cascaded Gain'])\n",
        "  ax.grid()\n",
        "  plt.show()"
      ]
    },
    {
      "cell_type": "code",
      "execution_count": null,
      "metadata": {
        "id": "6FzDjC6HJq_7"
      },
      "outputs": [],
      "source": [
        "# DO NOT CHANGE\n",
        "# def calculate_cascaded_gains(df):\n",
        "#     stage_gain_columns = df.columns[1:]  # Exclude the 'Frequency' column\n",
        "#     cascaded_gain_columns = []\n",
        "\n",
        "#     for i, stage_gain_column in enumerate(stage_gain_columns):\n",
        "#         cascaded_gain_column = stage_gain_column + '_cascaded'\n",
        "#         cascaded_gain_columns.append(cascaded_gain_column)\n",
        "#         df[cascaded_gain_column] = df.iloc[:, 1:i+2].sum(axis=1)\n",
        "\n",
        "#     return df[['Frequency'] + list(stage_gain_columns) + cascaded_gain_columns]\n",
        "#\n",
        "\n",
        "# def rearrange_columns(df):\n",
        "#     stage_gain_columns = df.columns[1:len(df.columns)//2 + 1]\n",
        "#     cascaded_gain_columns = [col + '_cascaded' for col in stage_gain_columns]\n",
        "\n",
        "#     new_order = ['Frequency'] + [col for pair in zip(stage_gain_columns, cascaded_gain_columns) for col in pair]\n",
        "\n",
        "#     return df[new_order]\n",
        "\n",
        "#\n",
        "def rearrange_columns(df):\n",
        "    stage_gain_columns = df.columns[1:len(df.columns)//2 + 1]\n",
        "    cascaded_gain_columns = [col + '_cascaded' for col in stage_gain_columns]\n",
        "\n",
        "    new_order = ['Frequency'] + [col for pair in zip(stage_gain_columns, cascaded_gain_columns) for col in pair]\n",
        "\n",
        "    return df[new_order]\n",
        "def calculate_cascaded_gains(df):\n",
        "    stage_gain_columns = df.columns[1:]  # Exclude the 'Frequency' column\n",
        "    cascaded_gain_columns = []\n",
        "\n",
        "    for i, stage_gain_column in enumerate(stage_gain_columns):\n",
        "        cascaded_gain_column = stage_gain_column + '_cascaded'\n",
        "        cascaded_gain_columns.append(cascaded_gain_column)\n",
        "        df[cascaded_gain_column] = df.iloc[:, 1:i+2].sum(axis=1)\n",
        "    output_df = df[['Frequency'] + list(stage_gain_columns) + cascaded_gain_columns]\n",
        "    output_df = rearrange_columns(output_df)\n",
        "    return output_df\n",
        "\n"
      ]
    },
    {
      "cell_type": "code",
      "execution_count": null,
      "metadata": {
        "id": "SGonUoNvR-4F"
      },
      "outputs": [],
      "source": [
        "# DO NOT CHANGE\n",
        "def clean_column_names(df):\n",
        "    df.columns = df.columns.str.replace(r'\\W+', '', regex=True)\n",
        "    return df"
      ]
    },
    {
      "cell_type": "code",
      "execution_count": null,
      "metadata": {
        "id": "lO9POJRjgjBq"
      },
      "outputs": [],
      "source": [
        "# DO NOT CHANGE\n",
        "def convert_attn_strings_to_df(df_list, f_df):\n",
        "    new_df_list = []\n",
        "\n",
        "    for i, item in enumerate(df_list):\n",
        "        if isinstance(item, str):\n",
        "            # Check if the string is in the format \"attnx\"\n",
        "            attn_match = re.match(r'^attn(-?\\d+)$', item)\n",
        "\n",
        "            if attn_match:\n",
        "                # Extract the entire number\n",
        "                attn_value = int(attn_match.group(1))\n",
        "\n",
        "                # Create a new df with f_df as the first column and attn_value as the second\n",
        "                attn_df = pd.DataFrame({f_df.columns[0]: f_df.iloc[:, 0], f'attn{attn_value}': -attn_value})\n",
        "\n",
        "                new_df_list.append(attn_df)\n",
        "            else:\n",
        "                new_df_list.append(item)\n",
        "        else:\n",
        "            new_df_list.append(item)\n",
        "\n",
        "    return new_df_list\n",
        "\n",
        "\n",
        "# test_system = [QPA2213D_gain, EQY_gain, 'attn20', QPA2213D_gain, TGA2963_gain]\n",
        "# result = convert_attn_strings_to_df(test_system, f_df)\n",
        "# result[2]\n"
      ]
    },
    {
      "cell_type": "code",
      "source": [
        "# DO NOT CHANGE\n",
        "def wirebond_loss(start_value,end_value):\n",
        "\n",
        "  start_value = -start_value\n",
        "  end_value = -end_value\n",
        "\n",
        "  # Calculate number of rows\n",
        "  num_rows = len(f_df)\n",
        "\n",
        "  # spacing dynamically\n",
        "  spacing = (end_value - start_value) / (num_rows - 1)\n",
        "\n",
        "  # Generate df\n",
        "  new_column_values = np.arange(start_value, end_value + spacing, spacing)[:num_rows]\n",
        "  new_df = pd.DataFrame({'Wirebond': new_column_values})\n",
        "\n",
        "  # Concatenate f_df and new_df along columns\n",
        "  result_df = pd.concat([f_df, new_df], axis=1)\n",
        "\n",
        "  return result_df"
      ],
      "metadata": {
        "id": "Qs0UmxmgxXYj"
      },
      "execution_count": null,
      "outputs": []
    },
    {
      "cell_type": "code",
      "source": [
        "# DO NOT CHANGE\n",
        "def general_linear_loss(start_value,end_value):\n",
        "\n",
        "  start_value = -start_value\n",
        "  end_value = -end_value\n",
        "\n",
        "  # Calculate number of rows\n",
        "  num_rows = len(f_df)\n",
        "\n",
        "  # spacing dynamically\n",
        "  spacing = (end_value - start_value) / (num_rows - 1)\n",
        "\n",
        "  # Generate df\n",
        "  new_column_values = np.arange(start_value, end_value + spacing, spacing)[:num_rows]\n",
        "  new_df = pd.DataFrame({'Wirebond': new_column_values})\n",
        "\n",
        "  # Concatenate f_df and new_df along columns\n",
        "  result_df = pd.concat([f_df, new_df], axis=1)\n",
        "\n",
        "  return result_df"
      ],
      "metadata": {
        "id": "U7EJlMpN0jrv"
      },
      "execution_count": null,
      "outputs": []
    },
    {
      "cell_type": "code",
      "source": [
        "def PA_Gain_calculator(pa_system):\n",
        "\n",
        "  pa_system_df = pd.DataFrame(f, columns=['Frequency'])\n",
        "\n",
        "  pa_system = convert_attn_strings_to_df(pa_system,f_df)\n",
        "  for element in pa_system:\n",
        "    pa_system_df = pd.merge(pa_system_df, element, on='Frequency', how='outer')\n",
        "\n",
        "  pa_system_df = calculate_cascaded_gains(pa_system_df)\n",
        "\n",
        "  generate_gain_plot(pa_system_df)\n",
        "  return pa_system_df"
      ],
      "metadata": {
        "id": "j-v0aIeaXQwq"
      },
      "execution_count": null,
      "outputs": []
    },
    {
      "cell_type": "markdown",
      "source": [
        "# Importing s2p files"
      ],
      "metadata": {
        "id": "jgYQuhP13WzQ"
      }
    },
    {
      "cell_type": "code",
      "execution_count": null,
      "metadata": {
        "id": "nG3pchER8QBc"
      },
      "outputs": [],
      "source": [
        "####----####----####----####----####----####----####----USER_INPUT----####----####----####----####----####----####----####\n",
        "\n",
        "\n",
        "# reading data from files\n",
        "# clean data and generate gain data in db\n",
        "\n",
        "\n",
        "TGA2214_s2p = 'TGA2214.s2p'\n",
        "TGA2214_ntwk = rf.Network(TGA2214_s2p)\n",
        "TGA2214_gain = ntwk_to_db(TGA2214_ntwk)\n",
        "\n",
        "TGA2227_s2p = 'TGA2227.s2p'\n",
        "TGA2227_ntwk = rf.Network(TGA2227_s2p)\n",
        "TGA2227_gain = ntwk_to_db(TGA2227_ntwk)\n",
        "\n",
        "EQY1024_s2p = 'EQY-10-24-D+.s2p'\n",
        "EQY1024_ntwk = rf.Network(EQY1024_s2p)\n",
        "EQY1024_gain = ntwk_to_db(EQY1024_ntwk)\n",
        "\n",
        "EQY0624_s2p = 'EQY-6-24-D+.s2p'\n",
        "EQY0624_ntwk = rf.Network(EQY0624_s2p)\n",
        "EQY0624_gain = ntwk_to_db(EQY0624_ntwk)\n",
        "\n",
        "\n",
        "Wirebond_gain = wirebond_loss(2,5)\n",
        "# Change wirebond loss as desired. use positive number. (loss at lowest freq, loss at highest)\n",
        "\n",
        "####----####----####----####----####----####----####----END__INPUT----####----####----####----####----####----####----####\n",
        "\n",
        "# gen_loss_s2p = 'gen_loss.s2p'\n",
        "# gen_loss_ntwk = rf.Network(gen_loss_s2p)\n",
        "\n",
        "# def generate_system_df(pa_system):\n",
        "\n",
        "\n",
        "#   pa_system_df = pd.DataFrame(f, columns=['Frequency'])\n",
        "#   for element in pa_system:\n",
        "#     pa_system_df = pd.merge(pa_system_df, element, on='Frequency', how='outer')\n",
        "\n",
        "\n",
        "#     return pa_system_df\n",
        "\n",
        "#\n",
        "\n",
        "# def read_s2p_and_get_gain(device_name):\n",
        "#     # Assuming the S2P file is named as \"{device_name}.s2p\"\n",
        "#     s2p_filename = f\"{device_name}.s2p\"\n",
        "\n",
        "#     # Read the S2P file into a skrf network\n",
        "#     network = rf.Network(s2p_filename)\n",
        "#     gain = ntwk_to_db(network)\n",
        "#     # Define global variable with the name based on the device name\n",
        "#     globals()[f\"{device_name}_gain\"] = gain\n",
        "#     return 0\n",
        "\n",
        "\n",
        "# # test\n",
        "# device_name = \"QPA1013D\"\n",
        "# read_s2p_and_get_gain(device_name)\n",
        "\n",
        "#"
      ]
    },
    {
      "cell_type": "markdown",
      "source": [
        "# System Gain Calculator\n"
      ],
      "metadata": {
        "id": "ohX7N667C8L4"
      }
    },
    {
      "cell_type": "code",
      "source": [
        "# PA_Gain_calculator([ stage1_gain, stage2_gain, stage3_gain])\n"
      ],
      "metadata": {
        "id": "tJ3UjzuLmJbF"
      },
      "execution_count": null,
      "outputs": []
    }
  ],
  "metadata": {
    "colab": {
      "provenance": [],
      "include_colab_link": true
    },
    "kernelspec": {
      "display_name": "Python 3",
      "name": "python3"
    },
    "language_info": {
      "name": "python"
    }
  },
  "nbformat": 4,
  "nbformat_minor": 0
}